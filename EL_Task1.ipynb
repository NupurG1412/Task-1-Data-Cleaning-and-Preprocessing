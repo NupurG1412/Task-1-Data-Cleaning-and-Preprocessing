{
 "cells": [
  {
   "cell_type": "markdown",
   "id": "cccf72c2",
   "metadata": {},
   "source": [
    "Task 1: Data Cleaning and Preprocessing "
   ]
  },
  {
   "cell_type": "code",
   "execution_count": 1,
   "id": "1c575a94",
   "metadata": {},
   "outputs": [],
   "source": [
    "import pandas as pd"
   ]
  },
  {
   "cell_type": "code",
   "execution_count": 28,
   "id": "98a5af95",
   "metadata": {},
   "outputs": [],
   "source": [
    "df = pd.read_csv('Downloads/Sales-Export_2019-2020.csv')"
   ]
  },
  {
   "cell_type": "code",
   "execution_count": 29,
   "id": "40be59e2",
   "metadata": {},
   "outputs": [
    {
     "data": {
      "text/html": [
       "<div>\n",
       "<style scoped>\n",
       "    .dataframe tbody tr th:only-of-type {\n",
       "        vertical-align: middle;\n",
       "    }\n",
       "\n",
       "    .dataframe tbody tr th {\n",
       "        vertical-align: top;\n",
       "    }\n",
       "\n",
       "    .dataframe thead th {\n",
       "        text-align: right;\n",
       "    }\n",
       "</style>\n",
       "<table border=\"1\" class=\"dataframe\">\n",
       "  <thead>\n",
       "    <tr style=\"text-align: right;\">\n",
       "      <th></th>\n",
       "      <th>country</th>\n",
       "      <th>order_value_EUR</th>\n",
       "      <th>cost</th>\n",
       "      <th>date</th>\n",
       "      <th>category</th>\n",
       "      <th>customer_name</th>\n",
       "      <th>sales_manager</th>\n",
       "      <th>sales_rep</th>\n",
       "      <th>device_type</th>\n",
       "      <th>order_id</th>\n",
       "    </tr>\n",
       "  </thead>\n",
       "  <tbody>\n",
       "    <tr>\n",
       "      <th>0</th>\n",
       "      <td>Sweden</td>\n",
       "      <td>17,524.02</td>\n",
       "      <td>14122.61</td>\n",
       "      <td>2/12/2020</td>\n",
       "      <td>Books</td>\n",
       "      <td>Goldner-Dibbert</td>\n",
       "      <td>Maxie Marrow</td>\n",
       "      <td>Madelon Bront</td>\n",
       "      <td>Mobile</td>\n",
       "      <td>70-0511466</td>\n",
       "    </tr>\n",
       "    <tr>\n",
       "      <th>1</th>\n",
       "      <td>Finland</td>\n",
       "      <td>116,563.40</td>\n",
       "      <td>92807.78</td>\n",
       "      <td>9/26/2019</td>\n",
       "      <td>Games</td>\n",
       "      <td>Hilll-Vandervort</td>\n",
       "      <td>Hube Corey</td>\n",
       "      <td>Wat Bowkley</td>\n",
       "      <td>Mobile</td>\n",
       "      <td>28-6585323</td>\n",
       "    </tr>\n",
       "    <tr>\n",
       "      <th>2</th>\n",
       "      <td>Portugal</td>\n",
       "      <td>296,465.56</td>\n",
       "      <td>257480.34</td>\n",
       "      <td>7/11/2019</td>\n",
       "      <td>Clothing</td>\n",
       "      <td>Larkin-Collier</td>\n",
       "      <td>Celine Tumasian</td>\n",
       "      <td>Smitty Culverhouse</td>\n",
       "      <td>PC</td>\n",
       "      <td>58-7703341</td>\n",
       "    </tr>\n",
       "    <tr>\n",
       "      <th>3</th>\n",
       "      <td>Portugal</td>\n",
       "      <td>74,532.02</td>\n",
       "      <td>59752.32</td>\n",
       "      <td>4/2/2020</td>\n",
       "      <td>Beauty</td>\n",
       "      <td>Hessel-Stiedemann</td>\n",
       "      <td>Celine Tumasian</td>\n",
       "      <td>Aurelie Wren</td>\n",
       "      <td>PC</td>\n",
       "      <td>14-6700183</td>\n",
       "    </tr>\n",
       "    <tr>\n",
       "      <th>4</th>\n",
       "      <td>Spain</td>\n",
       "      <td>178,763.42</td>\n",
       "      <td>146621.76</td>\n",
       "      <td>12/22/2019</td>\n",
       "      <td>Games</td>\n",
       "      <td>Johns and Sons</td>\n",
       "      <td>Emalia Dinse</td>\n",
       "      <td>Bertha Walbrook</td>\n",
       "      <td>Tablet</td>\n",
       "      <td>15-8765160</td>\n",
       "    </tr>\n",
       "  </tbody>\n",
       "</table>\n",
       "</div>"
      ],
      "text/plain": [
       "    country  order_value_EUR       cost         date  category  \\\n",
       "0    Sweden         17,524.02   14122.61   2/12/2020     Books   \n",
       "1   Finland        116,563.40   92807.78   9/26/2019     Games   \n",
       "2  Portugal        296,465.56  257480.34   7/11/2019  Clothing   \n",
       "3  Portugal         74,532.02   59752.32    4/2/2020    Beauty   \n",
       "4     Spain        178,763.42  146621.76  12/22/2019     Games   \n",
       "\n",
       "       customer_name    sales_manager           sales_rep device_type  \\\n",
       "0    Goldner-Dibbert     Maxie Marrow       Madelon Bront      Mobile   \n",
       "1   Hilll-Vandervort       Hube Corey         Wat Bowkley      Mobile   \n",
       "2     Larkin-Collier  Celine Tumasian  Smitty Culverhouse          PC   \n",
       "3  Hessel-Stiedemann  Celine Tumasian        Aurelie Wren          PC   \n",
       "4     Johns and Sons     Emalia Dinse     Bertha Walbrook      Tablet   \n",
       "\n",
       "     order_id  \n",
       "0  70-0511466  \n",
       "1  28-6585323  \n",
       "2  58-7703341  \n",
       "3  14-6700183  \n",
       "4  15-8765160  "
      ]
     },
     "execution_count": 29,
     "metadata": {},
     "output_type": "execute_result"
    }
   ],
   "source": [
    "df.head()"
   ]
  },
  {
   "cell_type": "code",
   "execution_count": 34,
   "id": "b409a7c3",
   "metadata": {},
   "outputs": [
    {
     "name": "stdout",
     "output_type": "stream",
     "text": [
      "Shape: (1000, 10)\n",
      "Column Names: ['country', ' order_value_EUR ', ' cost ', 'date', 'category', 'customer_name', 'sales_manager', 'sales_rep', 'device_type', 'order_id']\n",
      "\n",
      "Missing Values:\n",
      " country              0\n",
      " order_value_EUR     0\n",
      " cost                0\n",
      "date                 0\n",
      "category             0\n",
      "customer_name        0\n",
      "sales_manager        0\n",
      "sales_rep            0\n",
      "device_type          0\n",
      "order_id             0\n",
      "dtype: int64\n",
      "\n",
      "Data Types:\n",
      " country               object\n",
      " order_value_EUR      object\n",
      " cost                float64\n",
      "date                  object\n",
      "category              object\n",
      "customer_name         object\n",
      "sales_manager         object\n",
      "sales_rep             object\n",
      "device_type           object\n",
      "order_id              object\n",
      "dtype: object\n",
      "\n",
      "First 5 Rows:\n",
      "     country  order_value_EUR       cost         date  category  \\\n",
      "0    Sweden         17,524.02   14122.61   2/12/2020     Books   \n",
      "1   Finland        116,563.40   92807.78   9/26/2019     Games   \n",
      "2  Portugal        296,465.56  257480.34   7/11/2019  Clothing   \n",
      "3  Portugal         74,532.02   59752.32    4/2/2020    Beauty   \n",
      "4     Spain        178,763.42  146621.76  12/22/2019     Games   \n",
      "\n",
      "       customer_name    sales_manager           sales_rep device_type  \\\n",
      "0    Goldner-Dibbert     Maxie Marrow       Madelon Bront      Mobile   \n",
      "1   Hilll-Vandervort       Hube Corey         Wat Bowkley      Mobile   \n",
      "2     Larkin-Collier  Celine Tumasian  Smitty Culverhouse          PC   \n",
      "3  Hessel-Stiedemann  Celine Tumasian        Aurelie Wren          PC   \n",
      "4     Johns and Sons     Emalia Dinse     Bertha Walbrook      Tablet   \n",
      "\n",
      "     order_id  \n",
      "0  70-0511466  \n",
      "1  28-6585323  \n",
      "2  58-7703341  \n",
      "3  14-6700183  \n",
      "4  15-8765160  \n"
     ]
    }
   ],
   "source": [
    "print(\"Shape:\", df.shape)\n",
    "print(\"Column Names:\", df.columns.tolist())\n",
    "print(\"\\nMissing Values:\\n\", df.isnull().sum())\n",
    "print(\"\\nData Types:\\n\", df.dtypes)\n",
    "print(\"\\nFirst 5 Rows:\\n\", df.head())"
   ]
  },
  {
   "cell_type": "markdown",
   "id": "d723b9b2",
   "metadata": {},
   "source": [
    "Cleaning Column Names"
   ]
  },
  {
   "cell_type": "code",
   "execution_count": 38,
   "id": "d248e7c4",
   "metadata": {},
   "outputs": [],
   "source": [
    "df.columns = df.columns.str.strip().str.lower().str.replace(' ', '_', regex=False).str.replace(r'[^\\w]', '', regex=True)"
   ]
  },
  {
   "cell_type": "markdown",
   "id": "61632799",
   "metadata": {},
   "source": [
    "Handling Missing Values"
   ]
  },
  {
   "cell_type": "code",
   "execution_count": 45,
   "id": "833654b7",
   "metadata": {},
   "outputs": [
    {
     "name": "stdout",
     "output_type": "stream",
     "text": [
      "Missing values per column:\n",
      "country            0\n",
      "order_value_eur    0\n",
      "cost               0\n",
      "date               0\n",
      "category           0\n",
      "customer_name      0\n",
      "sales_manager      0\n",
      "sales_rep          0\n",
      "device_type        0\n",
      "order_id           0\n",
      "dtype: int64\n"
     ]
    }
   ],
   "source": [
    "print(\"Missing values per column:\")\n",
    "print(df.isnull().sum())"
   ]
  },
  {
   "cell_type": "code",
   "execution_count": 42,
   "id": "d2c29d35",
   "metadata": {},
   "outputs": [],
   "source": [
    "df = df.dropna(subset=['customer_name', 'device_type']) "
   ]
  },
  {
   "cell_type": "code",
   "execution_count": 43,
   "id": "9a7e8048",
   "metadata": {},
   "outputs": [],
   "source": [
    "df['date'] = pd.to_datetime(df['date'], errors='coerce')"
   ]
  },
  {
   "cell_type": "markdown",
   "id": "4b59f4d1",
   "metadata": {},
   "source": [
    "Remove Duplicates"
   ]
  },
  {
   "cell_type": "code",
   "execution_count": 44,
   "id": "c496c635",
   "metadata": {},
   "outputs": [],
   "source": [
    "df = df.drop_duplicates()"
   ]
  },
  {
   "cell_type": "markdown",
   "id": "162c27d7",
   "metadata": {},
   "source": [
    "Standardize Strings"
   ]
  },
  {
   "cell_type": "code",
   "execution_count": 46,
   "id": "a1af7015",
   "metadata": {},
   "outputs": [],
   "source": [
    "if 'customer_name' in df.columns:\n",
    "    df['customer_name'] = df['customer_name'].str.lower().str.strip()"
   ]
  },
  {
   "cell_type": "markdown",
   "id": "b7794148",
   "metadata": {},
   "source": [
    "Fixing Data Types"
   ]
  },
  {
   "cell_type": "code",
   "execution_count": 47,
   "id": "8996fa30",
   "metadata": {},
   "outputs": [],
   "source": [
    "df['order_value_eur'] = df['order_value_eur'].replace('[\\€,]', '', regex=True)\n",
    "df['order_value_eur'] = pd.to_numeric(df['order_value_eur'], errors='coerce')"
   ]
  },
  {
   "cell_type": "code",
   "execution_count": 48,
   "id": "537f0f74",
   "metadata": {},
   "outputs": [],
   "source": [
    "df['date'] = pd.to_datetime(df['date'], errors='coerce', dayfirst=True)"
   ]
  },
  {
   "cell_type": "markdown",
   "id": "c1387827",
   "metadata": {},
   "source": [
    "Calculated Column for profit"
   ]
  },
  {
   "cell_type": "code",
   "execution_count": 50,
   "id": "789e6cce",
   "metadata": {},
   "outputs": [],
   "source": [
    "df['profit'] = df['order_value_eur'] - df['cost']"
   ]
  },
  {
   "cell_type": "code",
   "execution_count": 51,
   "id": "98ec8395",
   "metadata": {},
   "outputs": [
    {
     "data": {
      "text/html": [
       "<div>\n",
       "<style scoped>\n",
       "    .dataframe tbody tr th:only-of-type {\n",
       "        vertical-align: middle;\n",
       "    }\n",
       "\n",
       "    .dataframe tbody tr th {\n",
       "        vertical-align: top;\n",
       "    }\n",
       "\n",
       "    .dataframe thead th {\n",
       "        text-align: right;\n",
       "    }\n",
       "</style>\n",
       "<table border=\"1\" class=\"dataframe\">\n",
       "  <thead>\n",
       "    <tr style=\"text-align: right;\">\n",
       "      <th></th>\n",
       "      <th>country</th>\n",
       "      <th>order_value_eur</th>\n",
       "      <th>cost</th>\n",
       "      <th>date</th>\n",
       "      <th>category</th>\n",
       "      <th>customer_name</th>\n",
       "      <th>sales_manager</th>\n",
       "      <th>sales_rep</th>\n",
       "      <th>device_type</th>\n",
       "      <th>order_id</th>\n",
       "      <th>profit</th>\n",
       "    </tr>\n",
       "  </thead>\n",
       "  <tbody>\n",
       "    <tr>\n",
       "      <th>0</th>\n",
       "      <td>Sweden</td>\n",
       "      <td>17524.02</td>\n",
       "      <td>14122.61</td>\n",
       "      <td>2020-02-12</td>\n",
       "      <td>Books</td>\n",
       "      <td>goldner-dibbert</td>\n",
       "      <td>Maxie Marrow</td>\n",
       "      <td>Madelon Bront</td>\n",
       "      <td>Mobile</td>\n",
       "      <td>70-0511466</td>\n",
       "      <td>3401.41</td>\n",
       "    </tr>\n",
       "    <tr>\n",
       "      <th>1</th>\n",
       "      <td>Finland</td>\n",
       "      <td>116563.40</td>\n",
       "      <td>92807.78</td>\n",
       "      <td>2019-09-26</td>\n",
       "      <td>Games</td>\n",
       "      <td>hilll-vandervort</td>\n",
       "      <td>Hube Corey</td>\n",
       "      <td>Wat Bowkley</td>\n",
       "      <td>Mobile</td>\n",
       "      <td>28-6585323</td>\n",
       "      <td>23755.62</td>\n",
       "    </tr>\n",
       "    <tr>\n",
       "      <th>2</th>\n",
       "      <td>Portugal</td>\n",
       "      <td>296465.56</td>\n",
       "      <td>257480.34</td>\n",
       "      <td>2019-07-11</td>\n",
       "      <td>Clothing</td>\n",
       "      <td>larkin-collier</td>\n",
       "      <td>Celine Tumasian</td>\n",
       "      <td>Smitty Culverhouse</td>\n",
       "      <td>PC</td>\n",
       "      <td>58-7703341</td>\n",
       "      <td>38985.22</td>\n",
       "    </tr>\n",
       "    <tr>\n",
       "      <th>3</th>\n",
       "      <td>Portugal</td>\n",
       "      <td>74532.02</td>\n",
       "      <td>59752.32</td>\n",
       "      <td>2020-04-02</td>\n",
       "      <td>Beauty</td>\n",
       "      <td>hessel-stiedemann</td>\n",
       "      <td>Celine Tumasian</td>\n",
       "      <td>Aurelie Wren</td>\n",
       "      <td>PC</td>\n",
       "      <td>14-6700183</td>\n",
       "      <td>14779.70</td>\n",
       "    </tr>\n",
       "    <tr>\n",
       "      <th>4</th>\n",
       "      <td>Spain</td>\n",
       "      <td>178763.42</td>\n",
       "      <td>146621.76</td>\n",
       "      <td>2019-12-22</td>\n",
       "      <td>Games</td>\n",
       "      <td>johns and sons</td>\n",
       "      <td>Emalia Dinse</td>\n",
       "      <td>Bertha Walbrook</td>\n",
       "      <td>Tablet</td>\n",
       "      <td>15-8765160</td>\n",
       "      <td>32141.66</td>\n",
       "    </tr>\n",
       "  </tbody>\n",
       "</table>\n",
       "</div>"
      ],
      "text/plain": [
       "    country  order_value_eur       cost       date  category  \\\n",
       "0    Sweden         17524.02   14122.61 2020-02-12     Books   \n",
       "1   Finland        116563.40   92807.78 2019-09-26     Games   \n",
       "2  Portugal        296465.56  257480.34 2019-07-11  Clothing   \n",
       "3  Portugal         74532.02   59752.32 2020-04-02    Beauty   \n",
       "4     Spain        178763.42  146621.76 2019-12-22     Games   \n",
       "\n",
       "       customer_name    sales_manager           sales_rep device_type  \\\n",
       "0    goldner-dibbert     Maxie Marrow       Madelon Bront      Mobile   \n",
       "1   hilll-vandervort       Hube Corey         Wat Bowkley      Mobile   \n",
       "2     larkin-collier  Celine Tumasian  Smitty Culverhouse          PC   \n",
       "3  hessel-stiedemann  Celine Tumasian        Aurelie Wren          PC   \n",
       "4     johns and sons     Emalia Dinse     Bertha Walbrook      Tablet   \n",
       "\n",
       "     order_id    profit  \n",
       "0  70-0511466   3401.41  \n",
       "1  28-6585323  23755.62  \n",
       "2  58-7703341  38985.22  \n",
       "3  14-6700183  14779.70  \n",
       "4  15-8765160  32141.66  "
      ]
     },
     "execution_count": 51,
     "metadata": {},
     "output_type": "execute_result"
    }
   ],
   "source": [
    "df.head()"
   ]
  },
  {
   "cell_type": "code",
   "execution_count": 54,
   "id": "7df980b2",
   "metadata": {},
   "outputs": [
    {
     "name": "stdout",
     "output_type": "stream",
     "text": [
      "Cleaned data saved as 'CLEANED_Sales-Export_2019-2020.csv'\n"
     ]
    }
   ],
   "source": [
    "df.to_csv('CLEANED_Sales-Export_2019-2020.csv', index=False)\n",
    "print(\"Cleaned data saved as 'CLEANED_Sales-Export_2019-2020.csv'\")"
   ]
  },
  {
   "cell_type": "code",
   "execution_count": null,
   "id": "f2100751",
   "metadata": {},
   "outputs": [],
   "source": []
  }
 ],
 "metadata": {
  "kernelspec": {
   "display_name": "Python 3 (ipykernel)",
   "language": "python",
   "name": "python3"
  },
  "language_info": {
   "codemirror_mode": {
    "name": "ipython",
    "version": 3
   },
   "file_extension": ".py",
   "mimetype": "text/x-python",
   "name": "python",
   "nbconvert_exporter": "python",
   "pygments_lexer": "ipython3",
   "version": "3.9.13"
  }
 },
 "nbformat": 4,
 "nbformat_minor": 5
}
